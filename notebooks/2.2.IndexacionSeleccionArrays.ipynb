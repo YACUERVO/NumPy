{
 "cells": [
  {
   "cell_type": "code",
   "execution_count": 2,
   "id": "2da11d9c-1de6-4405-abba-409c5f622dc6",
   "metadata": {},
   "outputs": [],
   "source": [
    "import numpy as np"
   ]
  },
  {
   "cell_type": "code",
   "execution_count": 3,
   "id": "bc8a4a1c-794c-4f1e-b818-0a64d5cb42d6",
   "metadata": {},
   "outputs": [
    {
     "name": "stdout",
     "output_type": "stream",
     "text": [
      "[1 2 3 4 5]\n"
     ]
    }
   ],
   "source": [
    "a = np.array([1, 2, 3, 4, 5])\n",
    "print(a)"
   ]
  },
  {
   "cell_type": "code",
   "execution_count": 6,
   "id": "e58ea9fa-d2e7-4969-a4f3-941428a57e1e",
   "metadata": {},
   "outputs": [
    {
     "data": {
      "text/plain": [
       "5"
      ]
     },
     "execution_count": 6,
     "metadata": {},
     "output_type": "execute_result"
    }
   ],
   "source": [
    "a[4]"
   ]
  },
  {
   "cell_type": "code",
   "execution_count": 7,
   "id": "3869994f-d83a-42d6-aa20-fbc88e5c6ac7",
   "metadata": {},
   "outputs": [
    {
     "name": "stdout",
     "output_type": "stream",
     "text": [
      "[[1 2 3]\n",
      " [4 5 6]\n",
      " [7 8 9]]\n"
     ]
    }
   ],
   "source": [
    "b = np.array([[1, 2, 3], [4, 5, 6], [7, 8, 9]])\n",
    "print(b)"
   ]
  },
  {
   "cell_type": "code",
   "execution_count": 9,
   "id": "f7854cea-144e-4bd0-abbf-c00e5b3bfb2f",
   "metadata": {},
   "outputs": [
    {
     "data": {
      "text/plain": [
       "9"
      ]
     },
     "execution_count": 9,
     "metadata": {},
     "output_type": "execute_result"
    }
   ],
   "source": [
    " b[-1, -1]"
   ]
  },
  {
   "cell_type": "code",
   "execution_count": 10,
   "id": "0b4fab22-db4d-4d76-a062-ef742c13f581",
   "metadata": {},
   "outputs": [
    {
     "name": "stdout",
     "output_type": "stream",
     "text": [
      "[0 1 2 3 4 5 6 7 8 9]\n"
     ]
    }
   ],
   "source": [
    "c = np.arange(10)\n",
    "print(c)"
   ]
  },
  {
   "cell_type": "code",
   "execution_count": 11,
   "id": "05cda322-08c0-4bbd-b706-943af2650ccd",
   "metadata": {},
   "outputs": [
    {
     "data": {
      "text/plain": [
       "array([0, 1, 2, 3, 4])"
      ]
     },
     "execution_count": 11,
     "metadata": {},
     "output_type": "execute_result"
    }
   ],
   "source": [
    "c[:5]"
   ]
  },
  {
   "cell_type": "code",
   "execution_count": 12,
   "id": "07b3fc5b-eac2-4eb3-a10d-b3462370b7d3",
   "metadata": {},
   "outputs": [
    {
     "data": {
      "text/plain": [
       "array([3, 4, 5, 6, 7])"
      ]
     },
     "execution_count": 12,
     "metadata": {},
     "output_type": "execute_result"
    }
   ],
   "source": [
    "c[3:8]"
   ]
  },
  {
   "cell_type": "code",
   "execution_count": 14,
   "id": "196a14d3-316f-43cc-b2bc-fa98a27e84a9",
   "metadata": {},
   "outputs": [
    {
     "data": {
      "text/plain": [
       "array([0, 3, 6, 9])"
      ]
     },
     "execution_count": 14,
     "metadata": {},
     "output_type": "execute_result"
    }
   ],
   "source": [
    "c[::3]"
   ]
  },
  {
   "cell_type": "code",
   "execution_count": 15,
   "id": "2a8f9bd6-d467-431d-a123-30e94ea4844a",
   "metadata": {},
   "outputs": [
    {
     "name": "stdout",
     "output_type": "stream",
     "text": [
      "[[ 1  2  3  4]\n",
      " [ 5  6  7  8]\n",
      " [ 9 10 11 12]]\n"
     ]
    }
   ],
   "source": [
    "d = np.array([[1, 2, 3, 4], [5, 6, 7, 8], [9, 10, 11, 12]])\n",
    "print(d)"
   ]
  },
  {
   "cell_type": "code",
   "execution_count": 16,
   "id": "96b92709-52ff-409f-99c6-7a0b104bc5a3",
   "metadata": {},
   "outputs": [
    {
     "data": {
      "text/plain": [
       "array([[1, 2],\n",
       "       [5, 6]])"
      ]
     },
     "execution_count": 16,
     "metadata": {},
     "output_type": "execute_result"
    }
   ],
   "source": [
    " d[:2, :2]"
   ]
  },
  {
   "cell_type": "code",
   "execution_count": 18,
   "id": "81664829-8445-490e-b54a-b812f4d0f701",
   "metadata": {},
   "outputs": [
    {
     "data": {
      "text/plain": [
       "array([[ 1,  4],\n",
       "       [ 5,  8],\n",
       "       [ 9, 12]])"
      ]
     },
     "execution_count": 18,
     "metadata": {},
     "output_type": "execute_result"
    }
   ],
   "source": [
    "d[:, ::3]"
   ]
  },
  {
   "cell_type": "code",
   "execution_count": 22,
   "id": "f315943d-a4d7-4d85-8781-ad0aee666bc5",
   "metadata": {},
   "outputs": [
    {
     "data": {
      "text/plain": [
       "array([2, 4, 4])"
      ]
     },
     "execution_count": 22,
     "metadata": {},
     "output_type": "execute_result"
    }
   ],
   "source": [
    "e = np.array([1, 2, 3, 4, 5, 6, 7, 8, 9])\n",
    "indices = np.array([1, 3, 3])\n",
    "\n",
    "e[indices]"
   ]
  },
  {
   "cell_type": "code",
   "execution_count": 23,
   "id": "4d655284-44dc-486b-a276-a9269a7a42da",
   "metadata": {},
   "outputs": [],
   "source": [
    "f = np.array([1, -1, -2, 3, -3, 3])"
   ]
  },
  {
   "cell_type": "code",
   "execution_count": 24,
   "id": "a8a9605b-ceb8-475c-aade-4922be07238a",
   "metadata": {},
   "outputs": [
    {
     "name": "stdout",
     "output_type": "stream",
     "text": [
      "[ 1 -1 -2  3 -3  3]\n"
     ]
    }
   ],
   "source": [
    "print(f)"
   ]
  },
  {
   "cell_type": "code",
   "execution_count": 25,
   "id": "cc383d9a-a927-4a0d-a6a3-0bfbeffa8173",
   "metadata": {},
   "outputs": [
    {
     "data": {
      "text/plain": [
       "array([ True, False, False,  True, False,  True])"
      ]
     },
     "execution_count": 25,
     "metadata": {},
     "output_type": "execute_result"
    }
   ],
   "source": [
    "condition = f > 0\n",
    "condition"
   ]
  },
  {
   "cell_type": "code",
   "execution_count": 26,
   "id": "1b937ad1-c28f-493a-b3ca-263d15720aa1",
   "metadata": {},
   "outputs": [
    {
     "data": {
      "text/plain": [
       "array([1, 3, 3])"
      ]
     },
     "execution_count": 26,
     "metadata": {},
     "output_type": "execute_result"
    }
   ],
   "source": [
    " f[condition]"
   ]
  },
  {
   "cell_type": "code",
   "execution_count": null,
   "id": "90eaf744-abf1-4abc-8437-a7792421c357",
   "metadata": {},
   "outputs": [],
   "source": []
  }
 ],
 "metadata": {
  "kernelspec": {
   "display_name": "Python 3 (ipykernel)",
   "language": "python",
   "name": "python3"
  },
  "language_info": {
   "codemirror_mode": {
    "name": "ipython",
    "version": 3
   },
   "file_extension": ".py",
   "mimetype": "text/x-python",
   "name": "python",
   "nbconvert_exporter": "python",
   "pygments_lexer": "ipython3",
   "version": "3.11.8"
  }
 },
 "nbformat": 4,
 "nbformat_minor": 5
}
