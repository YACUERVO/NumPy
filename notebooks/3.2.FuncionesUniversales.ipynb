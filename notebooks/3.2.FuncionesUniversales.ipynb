{
 "cells": [
  {
   "cell_type": "code",
   "execution_count": 1,
   "id": "f3dca025-e4c5-48b6-a5f1-63cc55a7bca4",
   "metadata": {},
   "outputs": [],
   "source": [
    "import numpy as np"
   ]
  },
  {
   "cell_type": "code",
   "execution_count": 23,
   "id": "40c9861a-80ad-4320-a1cc-ae5f046b4b50",
   "metadata": {},
   "outputs": [],
   "source": [
    "a = np.array([1, 5, 9])\n",
    "b = np.array([4, 5, 6])"
   ]
  },
  {
   "cell_type": "code",
   "execution_count": 4,
   "id": "6fd033b1-6427-4b63-bfe7-ea1796bd8c12",
   "metadata": {},
   "outputs": [
    {
     "data": {
      "text/plain": [
       "array([5, 7, 9])"
      ]
     },
     "execution_count": 4,
     "metadata": {},
     "output_type": "execute_result"
    }
   ],
   "source": [
    "np.add(a,b)"
   ]
  },
  {
   "cell_type": "code",
   "execution_count": 6,
   "id": "7bc70f59-51ed-468d-8dd0-fceba01c2456",
   "metadata": {},
   "outputs": [
    {
     "data": {
      "text/plain": [
       "array([-3, -3, -3])"
      ]
     },
     "execution_count": 6,
     "metadata": {},
     "output_type": "execute_result"
    }
   ],
   "source": [
    "np.subtract(a,b)"
   ]
  },
  {
   "cell_type": "code",
   "execution_count": 7,
   "id": "766aa34b-027c-4a32-a369-5c827829c8af",
   "metadata": {},
   "outputs": [
    {
     "data": {
      "text/plain": [
       "array([ 4, 10, 18])"
      ]
     },
     "execution_count": 7,
     "metadata": {},
     "output_type": "execute_result"
    }
   ],
   "source": [
    "np.multiply(a,b)"
   ]
  },
  {
   "cell_type": "code",
   "execution_count": 8,
   "id": "a5740f31-c383-4819-b79a-21f741e2cc2f",
   "metadata": {},
   "outputs": [
    {
     "data": {
      "text/plain": [
       "array([0.25, 0.4 , 0.5 ])"
      ]
     },
     "execution_count": 8,
     "metadata": {},
     "output_type": "execute_result"
    }
   ],
   "source": [
    "np.divide(a,b)"
   ]
  },
  {
   "cell_type": "code",
   "execution_count": 14,
   "id": "b9939722-1459-45f1-99a0-184c15803bcb",
   "metadata": {},
   "outputs": [],
   "source": [
    "angles = np.array([0, 30, 60, 90])\n",
    "angles_rad = np.radians(angles)"
   ]
  },
  {
   "cell_type": "code",
   "execution_count": 17,
   "id": "9ac1a776-d0c4-4865-82d2-f4fb81a1d662",
   "metadata": {},
   "outputs": [
    {
     "data": {
      "text/plain": [
       "array([0.00000000e+00, 5.77350269e-01, 1.73205081e+00, 1.63312394e+16])"
      ]
     },
     "execution_count": 17,
     "metadata": {},
     "output_type": "execute_result"
    }
   ],
   "source": [
    "np.tan(angles_rad)"
   ]
  },
  {
   "cell_type": "code",
   "execution_count": 24,
   "id": "9ba36506-41e0-4999-8f8e-58860347e3b3",
   "metadata": {},
   "outputs": [
    {
     "data": {
      "text/plain": [
       "array([False,  True, False])"
      ]
     },
     "execution_count": 24,
     "metadata": {},
     "output_type": "execute_result"
    }
   ],
   "source": [
    "np.equal(a,b)"
   ]
  },
  {
   "cell_type": "code",
   "execution_count": 26,
   "id": "3e01c88e-87b8-47bb-98ab-328997a79447",
   "metadata": {},
   "outputs": [
    {
     "data": {
      "text/plain": [
       "array([     1,   3125, 531441])"
      ]
     },
     "execution_count": 26,
     "metadata": {},
     "output_type": "execute_result"
    }
   ],
   "source": [
    "np.power(a,b)"
   ]
  },
  {
   "cell_type": "code",
   "execution_count": 30,
   "id": "71c26568-ac01-45a2-8af6-4d3db301de9b",
   "metadata": {},
   "outputs": [
    {
     "data": {
      "text/plain": [
       "0.816496580927726"
      ]
     },
     "execution_count": 30,
     "metadata": {},
     "output_type": "execute_result"
    }
   ],
   "source": [
    "np.std(b)"
   ]
  },
  {
   "cell_type": "code",
   "execution_count": 33,
   "id": "2dc44873-b5cc-4a47-813b-1eee6e6d1565",
   "metadata": {},
   "outputs": [
    {
     "name": "stdout",
     "output_type": "stream",
     "text": [
      "[1 5 9]\n",
      "[4 5 6]\n"
     ]
    }
   ],
   "source": [
    "print(a)\n",
    "print(b)"
   ]
  },
  {
   "cell_type": "code",
   "execution_count": 37,
   "id": "d1f7c2f1-cd7f-4914-b1af-ffe2266366c0",
   "metadata": {},
   "outputs": [],
   "source": [
    "z = a+b"
   ]
  },
  {
   "cell_type": "code",
   "execution_count": 41,
   "id": "b28d8611-2c2c-4423-824c-963495dda8e0",
   "metadata": {},
   "outputs": [],
   "source": [
    "w = np.add(a,b, dtype = np.int32)"
   ]
  },
  {
   "cell_type": "code",
   "execution_count": 42,
   "id": "2f8b2908-797b-448f-b60f-30a91039fa2f",
   "metadata": {},
   "outputs": [
    {
     "data": {
      "text/plain": [
       "numpy.int32"
      ]
     },
     "execution_count": 42,
     "metadata": {},
     "output_type": "execute_result"
    }
   ],
   "source": [
    "type(w[0])"
   ]
  },
  {
   "cell_type": "code",
   "execution_count": null,
   "id": "ee151c03-8d37-4e95-aeb5-825c0bfa160f",
   "metadata": {},
   "outputs": [],
   "source": []
  }
 ],
 "metadata": {
  "kernelspec": {
   "display_name": "Python 3 (ipykernel)",
   "language": "python",
   "name": "python3"
  },
  "language_info": {
   "codemirror_mode": {
    "name": "ipython",
    "version": 3
   },
   "file_extension": ".py",
   "mimetype": "text/x-python",
   "name": "python",
   "nbconvert_exporter": "python",
   "pygments_lexer": "ipython3",
   "version": "3.12.3"
  }
 },
 "nbformat": 4,
 "nbformat_minor": 5
}
