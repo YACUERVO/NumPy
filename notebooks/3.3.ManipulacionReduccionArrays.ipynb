{
 "cells": [
  {
   "cell_type": "code",
   "execution_count": 1,
   "id": "2db06c45-463f-41d4-a255-f0a12bc8cd24",
   "metadata": {},
   "outputs": [],
   "source": [
    "import numpy as np"
   ]
  },
  {
   "cell_type": "code",
   "execution_count": 2,
   "id": "9bad2dd4-e500-4fe8-a669-cce29458cc85",
   "metadata": {},
   "outputs": [],
   "source": [
    "z = np.array([2,3,4])\n",
    "x = z.copy()\n",
    "\n",
    "z[1] = 9"
   ]
  },
  {
   "cell_type": "code",
   "execution_count": 3,
   "id": "af2a89cb-f43d-4728-aeb8-4881618cb682",
   "metadata": {},
   "outputs": [
    {
     "name": "stdout",
     "output_type": "stream",
     "text": [
      "x:  [2 3 4]\n",
      "z:  [2 9 4]\n"
     ]
    }
   ],
   "source": [
    "print('x: ',x)\n",
    "print('z: ',z)"
   ]
  },
  {
   "cell_type": "code",
   "execution_count": 4,
   "id": "869cf659-02d4-41c1-82d6-ae89b3b10470",
   "metadata": {
    "scrolled": true
   },
   "outputs": [
    {
     "name": "stdout",
     "output_type": "stream",
     "text": [
      "[1 2 3 4 5 6 7 8 9]\n",
      "[[1 2 3]\n",
      " [4 5 6]\n",
      " [7 8 9]]\n"
     ]
    }
   ],
   "source": [
    "a = np.arange(1, 10)\n",
    "print(a)\n",
    "b = a.reshape((3, 3))\n",
    "print(b)"
   ]
  },
  {
   "cell_type": "code",
   "execution_count": 5,
   "id": "5f5a5072-485c-4e4c-98c4-2c547060f9db",
   "metadata": {},
   "outputs": [
    {
     "name": "stdout",
     "output_type": "stream",
     "text": [
      "[1 2 3 4 5 6 7 8 9]\n"
     ]
    }
   ],
   "source": [
    "c = b.flatten()\n",
    "print(c)"
   ]
  },
  {
   "cell_type": "code",
   "execution_count": 6,
   "id": "1c08079b-e25b-438f-9b3e-92b8faaf995d",
   "metadata": {},
   "outputs": [
    {
     "name": "stdout",
     "output_type": "stream",
     "text": [
      "[1 2 3 4 5 6 7 8 9]\n"
     ]
    }
   ],
   "source": [
    "d = b.ravel()\n",
    "print(d)"
   ]
  },
  {
   "cell_type": "code",
   "execution_count": 7,
   "id": "cef88b2b-3e9c-4fd6-ba22-61bd46397bcb",
   "metadata": {},
   "outputs": [],
   "source": [
    "d[0] = 99"
   ]
  },
  {
   "cell_type": "code",
   "execution_count": 8,
   "id": "64ec4e2f-72e3-4127-a3bb-6a15a6e770e2",
   "metadata": {},
   "outputs": [
    {
     "data": {
      "text/plain": [
       "array([[99,  2,  3],\n",
       "       [ 4,  5,  6],\n",
       "       [ 7,  8,  9]])"
      ]
     },
     "execution_count": 8,
     "metadata": {},
     "output_type": "execute_result"
    }
   ],
   "source": [
    "b"
   ]
  },
  {
   "cell_type": "code",
   "execution_count": 9,
   "id": "2971da32-d2ea-4036-843d-0833bb8243d5",
   "metadata": {},
   "outputs": [
    {
     "name": "stdout",
     "output_type": "stream",
     "text": [
      "[[99  2  3]\n",
      " [ 4  5  6]\n",
      " [ 7  8  9]]\n"
     ]
    }
   ],
   "source": [
    "print(b)"
   ]
  },
  {
   "cell_type": "code",
   "execution_count": 10,
   "id": "a3f97215-0d8d-4cbb-a2ac-b5c6123e0178",
   "metadata": {},
   "outputs": [
    {
     "data": {
      "text/plain": [
       "array([[99,  4,  7],\n",
       "       [ 2,  5,  8],\n",
       "       [ 3,  6,  9]])"
      ]
     },
     "execution_count": 10,
     "metadata": {},
     "output_type": "execute_result"
    }
   ],
   "source": [
    "b.transpose()"
   ]
  },
  {
   "cell_type": "code",
   "execution_count": 11,
   "id": "48844093-519f-46ef-9207-c64e80c3344d",
   "metadata": {},
   "outputs": [
    {
     "data": {
      "text/plain": [
       "29.46351583623548"
      ]
     },
     "execution_count": 11,
     "metadata": {},
     "output_type": "execute_result"
    }
   ],
   "source": [
    "np.std(b)"
   ]
  },
  {
   "cell_type": "code",
   "execution_count": 12,
   "id": "78fc5181-3bf0-4c64-8e13-f2af25c81dae",
   "metadata": {},
   "outputs": [
    {
     "data": {
      "text/plain": [
       "array([2, 4, 7])"
      ]
     },
     "execution_count": 12,
     "metadata": {},
     "output_type": "execute_result"
    }
   ],
   "source": [
    "np.min(b, axis = 1)"
   ]
  },
  {
   "cell_type": "code",
   "execution_count": null,
   "id": "1f496520-debe-40a8-895d-c29cc7fdd308",
   "metadata": {},
   "outputs": [],
   "source": []
  },
  {
   "cell_type": "code",
   "execution_count": null,
   "id": "1d6a2e99-7383-4db6-888a-ab7ff250197a",
   "metadata": {},
   "outputs": [],
   "source": []
  }
 ],
 "metadata": {
  "kernelspec": {
   "display_name": "Python 3 (ipykernel)",
   "language": "python",
   "name": "python3"
  },
  "language_info": {
   "codemirror_mode": {
    "name": "ipython",
    "version": 3
   },
   "file_extension": ".py",
   "mimetype": "text/x-python",
   "name": "python",
   "nbconvert_exporter": "python",
   "pygments_lexer": "ipython3",
   "version": "3.12.3"
  }
 },
 "nbformat": 4,
 "nbformat_minor": 5
}
