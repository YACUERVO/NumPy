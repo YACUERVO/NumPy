{
 "cells": [
  {
   "cell_type": "code",
   "execution_count": 51,
   "id": "186cb7a7",
   "metadata": {},
   "outputs": [],
   "source": [
    "import numpy as np\n",
    "import matplotlib.pyplot as plt"
   ]
  },
  {
   "cell_type": "code",
   "execution_count": 3,
   "id": "039903c8",
   "metadata": {},
   "outputs": [
    {
     "name": "stdout",
     "output_type": "stream",
     "text": [
      "[1, 2, 3]\n",
      "[1 2 3]\n"
     ]
    }
   ],
   "source": [
    "lista= [1,2,3]\n",
    "\n",
    "A = np.array(lista)\n",
    "print(lista)\n",
    "print(A)"
   ]
  },
  {
   "cell_type": "code",
   "execution_count": 4,
   "id": "397b6e98",
   "metadata": {},
   "outputs": [
    {
     "name": "stdout",
     "output_type": "stream",
     "text": [
      "[[1 2]\n",
      " [1 5]]\n"
     ]
    }
   ],
   "source": [
    "#Arrays compuestos\n",
    "A2 = np.array([[1,2],[1,5]])\n",
    "print(A2)"
   ]
  },
  {
   "cell_type": "code",
   "execution_count": 5,
   "id": "1f122fb4",
   "metadata": {},
   "outputs": [
    {
     "name": "stdout",
     "output_type": "stream",
     "text": [
      "Zeros array: \n",
      " [[0. 0. 0.]\n",
      " [0. 0. 0.]]\n",
      "One array: \n",
      " [[1. 1.]\n",
      " [1. 1.]\n",
      " [1. 1.]]\n"
     ]
    }
   ],
   "source": [
    "#Arrays de ceros y uno \n",
    "\n",
    "zeros_array = np.zeros((2,3))\n",
    "one_array = np.ones((3,2))\n",
    "\n",
    "print(\"Zeros array: \\n\", zeros_array)\n",
    "print(\"One array: \\n\", one_array)\n"
   ]
  },
  {
   "cell_type": "code",
   "execution_count": 6,
   "id": "d7c9db75",
   "metadata": {},
   "outputs": [
    {
     "name": "stdout",
     "output_type": "stream",
     "text": [
      "Range array [0 1 2 3 4 5 6 7 8 9]\n"
     ]
    }
   ],
   "source": [
    "# Arrays de rangos\n",
    "\n",
    "range_array = np.arange(10)\n",
    "print(\"Range array\", range_array)"
   ]
  },
  {
   "cell_type": "code",
   "execution_count": 7,
   "id": "767d40d2",
   "metadata": {},
   "outputs": [
    {
     "name": "stdout",
     "output_type": "stream",
     "text": [
      "[0.   0.25 0.5  0.75 1.  ]\n"
     ]
    }
   ],
   "source": [
    "#Array espaciados linealmente\n",
    "from numpy import linspace\n",
    "\n",
    "\n",
    "linspace_array = np.linspace(0,1,num=5)\n",
    "print(linspace_array)"
   ]
  },
  {
   "cell_type": "code",
   "execution_count": 8,
   "id": "c82b2894",
   "metadata": {},
   "outputs": [
    {
     "name": "stdout",
     "output_type": "stream",
     "text": [
      "[[1. 0. 0. 0.]\n",
      " [0. 1. 0. 0.]\n",
      " [0. 0. 1. 0.]\n",
      " [0. 0. 0. 1.]]\n"
     ]
    }
   ],
   "source": [
    "#Matriz identidad\n",
    "\n",
    "from numpy import identity\n",
    "\n",
    "\n",
    "identity_matriz = np.eye(4)\n",
    "print(identity_matriz)"
   ]
  },
  {
   "cell_type": "code",
   "execution_count": 9,
   "id": "4809ae1e",
   "metadata": {},
   "outputs": [
    {
     "name": "stdout",
     "output_type": "stream",
     "text": [
      "[1 2 3 4 5]\n"
     ]
    }
   ],
   "source": [
    "#Indexacion de arrays\n",
    "a = np.array([1,2,3,4,5])\n",
    "print(a)"
   ]
  },
  {
   "cell_type": "code",
   "execution_count": 10,
   "id": "18c4f6f4",
   "metadata": {},
   "outputs": [
    {
     "data": {
      "text/plain": [
       "np.int64(5)"
      ]
     },
     "execution_count": 10,
     "metadata": {},
     "output_type": "execute_result"
    }
   ],
   "source": [
    "a[4]\n"
   ]
  },
  {
   "cell_type": "code",
   "execution_count": 11,
   "id": "a3a2836a",
   "metadata": {},
   "outputs": [
    {
     "name": "stdout",
     "output_type": "stream",
     "text": [
      "[[1 2 3]\n",
      " [4 5 6]\n",
      " [7 8 9]]\n"
     ]
    }
   ],
   "source": [
    "b = np.array([[1,2,3],[4,5,6],[7,8,9]])\n",
    "print(b)\n",
    "\n"
   ]
  },
  {
   "cell_type": "code",
   "execution_count": 12,
   "id": "7afd8f62",
   "metadata": {},
   "outputs": [
    {
     "data": {
      "text/plain": [
       "np.int64(7)"
      ]
     },
     "execution_count": 12,
     "metadata": {},
     "output_type": "execute_result"
    }
   ],
   "source": [
    "b[-1,0]\n"
   ]
  },
  {
   "cell_type": "code",
   "execution_count": 13,
   "id": "8ba4db32",
   "metadata": {},
   "outputs": [
    {
     "name": "stdout",
     "output_type": "stream",
     "text": [
      "[0 1 2 3 4 5 6 7 8 9]\n",
      "[0 1 2 3 4]\n",
      "[3 4 5 6 7]\n",
      "[0 2 4 6 8]\n",
      "[9 8 7 6 5 4 3 2 1 0]\n"
     ]
    }
   ],
   "source": [
    "c = np.arange(10)\n",
    "print(c)\n",
    "d = c[:5]\n",
    "print(d)\n",
    "e = c[3:8]\n",
    "print(e)\n",
    "f = c[::2]\n",
    "print(f)\n",
    "g = c[::-1]\n",
    "print(g)\n"
   ]
  },
  {
   "cell_type": "code",
   "execution_count": 14,
   "id": "61119850",
   "metadata": {},
   "outputs": [
    {
     "name": "stdout",
     "output_type": "stream",
     "text": [
      "[[ 1  2  3  4]\n",
      " [ 5  6  7  8]\n",
      " [ 9 10 11 12]]\n",
      "[[1 2]\n",
      " [5 6]]\n",
      "[[ 1  3]\n",
      " [ 5  7]\n",
      " [ 9 11]]\n"
     ]
    }
   ],
   "source": [
    "d = np.array([[1,2,3,4],[5,6,7,8],[9,10,11,12]])\n",
    "print(d)\n",
    "\n",
    "e = d[:2,:2]\n",
    "print(e)\n",
    "\n",
    "f = d[:,::2]\n",
    "print(f)\n",
    "\n"
   ]
  },
  {
   "cell_type": "code",
   "execution_count": 15,
   "id": "2058957f",
   "metadata": {},
   "outputs": [
    {
     "data": {
      "text/plain": [
       "array([2, 4, 6])"
      ]
     },
     "execution_count": 15,
     "metadata": {},
     "output_type": "execute_result"
    }
   ],
   "source": [
    "e = np.array([1,2,3,4,5,6,7,8,9,10])\n",
    "indices = np.array([1,3,5])\n",
    "\n",
    "e[indices]"
   ]
  },
  {
   "cell_type": "code",
   "execution_count": 16,
   "id": "9e19b954",
   "metadata": {},
   "outputs": [
    {
     "name": "stdout",
     "output_type": "stream",
     "text": [
      "[False False False False False  True  True  True  True  True]\n"
     ]
    }
   ],
   "source": [
    "#Indexacion booleana\n",
    "\n",
    "f = np.array([1,2,3,4,5,6,7,8,9,10])\n",
    "condiciones = f > 5\n",
    "print(condiciones)"
   ]
  },
  {
   "cell_type": "code",
   "execution_count": 17,
   "id": "bb7100d2",
   "metadata": {},
   "outputs": [
    {
     "data": {
      "text/plain": [
       "array([ 6,  7,  8,  9, 10])"
      ]
     },
     "execution_count": 17,
     "metadata": {},
     "output_type": "execute_result"
    }
   ],
   "source": [
    "f[condiciones]"
   ]
  },
  {
   "cell_type": "code",
   "execution_count": 18,
   "id": "c549f544",
   "metadata": {},
   "outputs": [
    {
     "name": "stdout",
     "output_type": "stream",
     "text": [
      "[12 14 16 18 20 22 24 26 28 30]\n",
      "[-10 -10 -10 -10 -10 -10 -10 -10 -10 -10]\n",
      "[ 11  24  39  56  75  96 119 144 171 200]\n",
      "[0.09090909 0.16666667 0.23076923 0.28571429 0.33333333 0.375\n",
      " 0.41176471 0.44444444 0.47368421 0.5       ]\n",
      "[21 22 23 24 25 26 27 28 29 30]\n",
      "[ 20  40  60  80 100 120 140 160 180 200]\n",
      "[0.05 0.1  0.15 0.2  0.25 0.3  0.35 0.4  0.45 0.5 ]\n",
      "[ 11  24  39  56  75  96 119 144 171 200]\n",
      "[ 20  40  60  80 100 120 140 160 180 200]\n"
     ]
    }
   ],
   "source": [
    "a = np.array([1,2,3,4,5,6,7,8,9,10])\n",
    "b = np.array([11,12,13,14,15,16,17,18,19,20])\n",
    "\n",
    "suma = a+b\n",
    "resta = a-b\n",
    "multiplicacion = a*b\n",
    "division = a/b\n",
    "\n",
    "print(suma)\n",
    "print(resta)\n",
    "print(multiplicacion)\n",
    "print(division)\n",
    "\n",
    "#Sumar escalar\n",
    "escalar_suma = a+20\n",
    "print(escalar_suma)\n",
    "\n",
    "#Multiplicar escalar\n",
    "escalar_multiplicacion = a*20\n",
    "print(escalar_multiplicacion    )\n",
    "\n",
    "#Dividir escalar\n",
    "escalar_division = a/20\n",
    "print(escalar_division)\n",
    "\n",
    "#Multiplicar matrices\n",
    "matriz_multiplicacion = a*b\n",
    "print(matriz_multiplicacion)\n",
    "\n",
    "#Multiplicar matrices con escalar\n",
    "matriz_multiplicacion_escalar = a*20\n",
    "print(matriz_multiplicacion_escalar)"
   ]
  },
  {
   "cell_type": "code",
   "execution_count": 19,
   "id": "681dfb17",
   "metadata": {},
   "outputs": [
    {
     "data": {
      "text/plain": [
       "array([[ 1,  4,  9],\n",
       "       [ 4, 10, 18]])"
      ]
     },
     "execution_count": 19,
     "metadata": {},
     "output_type": "execute_result"
    }
   ],
   "source": [
    "#Broadcasting\n",
    "\n",
    "vector = np.array([1,2,3])\n",
    "\n",
    "vector + 5 \n",
    "\n",
    "a = np.array([[1,2,3],[4,5,6]])\n",
    "b = np.array([[1,2,3]])\n",
    "\n",
    "a*b"
   ]
  },
  {
   "cell_type": "code",
   "execution_count": 20,
   "id": "934038a1",
   "metadata": {},
   "outputs": [
    {
     "name": "stdout",
     "output_type": "stream",
     "text": [
      "Suma: | [ 7  9 11 13 15]\n",
      "Resta:  [-5 -5 -5 -5 -5]\n",
      "Multiplicacion:  [ 6 14 24 36 50]\n",
      "Division:  [0.16666667 0.28571429 0.375      0.44444444 0.5       ]\n",
      "Potencia:  [      1     128    6561  262144 9765625]\n",
      "Modulo:  [1 2 3 4 5]\n",
      "Raiz cuadrada:  [1.         1.41421356 1.73205081 2.         2.23606798]\n"
     ]
    }
   ],
   "source": [
    "#Funciones universales\n",
    "\n",
    "a = np.array([1,2,3,4,5])\n",
    "b = np.array([6,7,8,9,10])\n",
    "\n",
    "\n",
    "print(\"Suma: |\", np.add(a,b))\n",
    "print(\"Resta: \", np.subtract(a,b))\n",
    "print(\"Multiplicacion: \", np.multiply(a,b))\n",
    "print(\"Division: \", np.divide(a,b))\n",
    "print(\"Potencia: \", np.power(a,b))\n",
    "print(\"Modulo: \", np.mod(a,b))\n",
    "print(\"Raiz cuadrada: \", np.sqrt(a))\n",
    "\n",
    "\n"
   ]
  },
  {
   "cell_type": "code",
   "execution_count": 21,
   "id": "6a107c44",
   "metadata": {},
   "outputs": [
    {
     "name": "stdout",
     "output_type": "stream",
     "text": [
      "Seno:  [0.         0.5        0.70710678 0.8660254  1.        ]\n",
      "Coseno:  [1.00000000e+00 8.66025404e-01 7.07106781e-01 5.00000000e-01\n",
      " 6.12323400e-17]\n",
      "Tangente:  [0.00000000e+00 5.77350269e-01 1.00000000e+00 1.73205081e+00\n",
      " 1.63312394e+16]\n",
      "Arcoseno:  [0.         0.55106958 0.90333911        nan        nan]\n",
      "Arcoseno:  [0.         0.55106958 0.90333911        nan        nan]\n"
     ]
    },
    {
     "name": "stderr",
     "output_type": "stream",
     "text": [
      "C:\\Users\\Admin\\AppData\\Local\\Temp\\ipykernel_22356\\3672673953.py:6: RuntimeWarning: invalid value encountered in arcsin\n",
      "  print(\"Arcoseno: \", np.arcsin(angulos_radianes))\n",
      "C:\\Users\\Admin\\AppData\\Local\\Temp\\ipykernel_22356\\3672673953.py:7: RuntimeWarning: invalid value encountered in arcsin\n",
      "  print(\"Arcoseno: \", np.arcsin(angulos_radianes))\n"
     ]
    }
   ],
   "source": [
    "angulos = np.array([0, 30, 45, 60, 90])\n",
    "angulos_radianes = np.radians(angulos)\n",
    "print(\"Seno: \", np.sin(angulos_radianes))\n",
    "print(\"Coseno: \", np.cos(angulos_radianes))\n",
    "print(\"Tangente: \", np.tan(angulos_radianes))\n",
    "print(\"Arcoseno: \", np.arcsin(angulos_radianes))\n",
    "print(\"Arcoseno: \", np.arcsin(angulos_radianes))\n"
   ]
  },
  {
   "cell_type": "code",
   "execution_count": 22,
   "id": "194aeacc",
   "metadata": {},
   "outputs": [
    {
     "name": "stdout",
     "output_type": "stream",
     "text": [
      "[False False False False False]\n",
      "[False False False False False]\n",
      "[ True  True  True  True  True]\n"
     ]
    }
   ],
   "source": [
    "#Mayor , menor , igual\n",
    "print(np.greater(a,b))\n",
    "print(np.greater_equal(a,b))\n",
    "print(np.less(a,b))"
   ]
  },
  {
   "cell_type": "code",
   "execution_count": 23,
   "id": "074f389b",
   "metadata": {},
   "outputs": [
    {
     "name": "stdout",
     "output_type": "stream",
     "text": [
      "Media:  5.0\n",
      "Desviacion estandar:  1.4142135623730951\n",
      "Varianza:  2.0\n",
      "Mediana:  3.0\n",
      "Rango:  4\n",
      "Percentil:  3.0\n",
      "Correlacion:  [[1. 1.]\n",
      " [1. 1.]]\n",
      "Covarianza:  [[2.5 2.5]\n",
      " [2.5 2.5]]\n",
      "Covarianza:  [[2.5 2.5]\n",
      " [2.5 2.5]]\n"
     ]
    }
   ],
   "source": [
    "print(\"Media: \", np.mean(5))\n",
    "print(\"Desviacion estandar: \", np.std(a))\n",
    "print(\"Varianza: \", np.var(a))\n",
    "print(\"Mediana: \", np.median(a))\n",
    "print(\"Rango: \", np.ptp(a))\n",
    "print(\"Percentil: \", np.percentile(a, 50))\n",
    "print(\"Correlacion: \", np.corrcoef(a,b))\n",
    "print(\"Covarianza: \", np.cov(a,b))\n",
    "print(\"Covarianza: \", np.cov(a,b))"
   ]
  },
  {
   "cell_type": "code",
   "execution_count": 24,
   "id": "21b522a0",
   "metadata": {},
   "outputs": [
    {
     "name": "stdout",
     "output_type": "stream",
     "text": [
      "z:  [100   2   3   4   5]\n",
      "x:  [1 2 3 4 5]\n"
     ]
    }
   ],
   "source": [
    "z = np.array([1,2,3,4,5])\n",
    "x = z.copy()\n",
    "\n",
    "\n",
    "z[0] = 100\n",
    "\n",
    "print('z: ', z)\n",
    "print('x: ', x)\n",
    "\n",
    "\n",
    "\n",
    "\n",
    "\n"
   ]
  },
  {
   "cell_type": "code",
   "execution_count": 25,
   "id": "53cac1ab",
   "metadata": {},
   "outputs": [
    {
     "name": "stdout",
     "output_type": "stream",
     "text": [
      "[1 2 3 4 5 6 7 8 9]\n",
      "[[1 2 3]\n",
      " [4 5 6]\n",
      " [7 8 9]]\n"
     ]
    }
   ],
   "source": [
    "a = np.arange(1,10)\n",
    "print(a)\n",
    "\n",
    "#Cambiar la forma\n",
    "\n",
    "b=a.reshape(3,3)\n",
    "print(b)"
   ]
  },
  {
   "cell_type": "code",
   "execution_count": 26,
   "id": "bc2ab756",
   "metadata": {},
   "outputs": [
    {
     "name": "stdout",
     "output_type": "stream",
     "text": [
      "[1 2 3 4 5 6 7 8 9]\n"
     ]
    }
   ],
   "source": [
    "#Aplanar un array\n",
    "\n",
    "c = b.flatten()\n",
    "print(c)\n"
   ]
  },
  {
   "cell_type": "code",
   "execution_count": 27,
   "id": "79740a1c",
   "metadata": {},
   "outputs": [
    {
     "name": "stdout",
     "output_type": "stream",
     "text": [
      "[1 2 3 4 5 6 7 8 9]\n"
     ]
    }
   ],
   "source": [
    "d=b.ravel()\n",
    "print(d)"
   ]
  },
  {
   "cell_type": "code",
   "execution_count": 28,
   "id": "fc69474c",
   "metadata": {},
   "outputs": [
    {
     "name": "stdout",
     "output_type": "stream",
     "text": [
      "[[1 2 3]\n",
      " [4 5 6]\n",
      " [7 8 9]]\n"
     ]
    },
    {
     "data": {
      "text/plain": [
       "array([[1, 4, 7],\n",
       "       [2, 5, 8],\n",
       "       [3, 6, 9]])"
      ]
     },
     "execution_count": 28,
     "metadata": {},
     "output_type": "execute_result"
    }
   ],
   "source": [
    "b.transpose()\n",
    "print(b)\n",
    "\n",
    "b.T\n"
   ]
  },
  {
   "cell_type": "code",
   "execution_count": 29,
   "id": "42c53dc3",
   "metadata": {},
   "outputs": [
    {
     "name": "stdout",
     "output_type": "stream",
     "text": [
      "[[1 2 3]\n",
      " [4 5 6]\n",
      " [7 8 9]]\n"
     ]
    }
   ],
   "source": [
    "np.sum(b)\n",
    "print(b)\n",
    "\n"
   ]
  },
  {
   "cell_type": "code",
   "execution_count": 30,
   "id": "85b397bc",
   "metadata": {},
   "outputs": [
    {
     "name": "stdout",
     "output_type": "stream",
     "text": [
      "Media columnas:  [4. 5. 6.]\n",
      "Media filas:  [2. 5. 8.]\n",
      "Media total:  5.0\n"
     ]
    }
   ],
   "source": [
    "#Medias columnas\n",
    "media_columnas = np.mean(b, axis=0)\n",
    "print('Media columnas: ', media_columnas)\n",
    "#Medias filas\n",
    "media_filas =   np.mean(b, axis=1)\n",
    "print('Media filas: ',  media_filas)\n",
    "\n",
    "#Medias de todos los elementos\n",
    "media_total = np.mean(b)\n",
    "print('Media total: ', media_total)\n",
    "\n",
    "\n"
   ]
  },
  {
   "cell_type": "code",
   "execution_count": 31,
   "id": "cf2fb90c",
   "metadata": {},
   "outputs": [
    {
     "name": "stdout",
     "output_type": "stream",
     "text": [
      "[[ 30  36  42]\n",
      " [ 66  81  96]\n",
      " [102 126 150]]\n",
      "[[ 30  36  42]\n",
      " [ 66  81  96]\n",
      " [102 126 150]]\n"
     ]
    }
   ],
   "source": [
    "A = np.array([[1,2,3],[4,5,6],[7,8,9]])\n",
    "B = np.array([[1,2,3],[4,5,6],[7,8,9]])\n",
    "\n",
    "#multiplicacion de matrices\n",
    "C = np.dot(A,B)\n",
    "print(C)\n",
    "\n",
    "#multiplicacion de matrices\n",
    "D = A@B\n",
    "print(D)\n",
    "\n",
    "\n",
    "\n",
    "\n",
    "\n"
   ]
  },
  {
   "cell_type": "code",
   "execution_count": 32,
   "id": "8fc150e5",
   "metadata": {},
   "outputs": [
    {
     "data": {
      "text/plain": [
       "np.int64(130)"
      ]
     },
     "execution_count": 32,
     "metadata": {},
     "output_type": "execute_result"
    }
   ],
   "source": [
    "x=np.array([1,2,3,4,5])\n",
    "y = np.array([6,7,8,9,10])\n",
    "\n",
    "#multiplicacion de vectores\n",
    "x @ y"
   ]
  },
  {
   "cell_type": "code",
   "execution_count": 36,
   "id": "a3808b47",
   "metadata": {},
   "outputs": [
    {
     "name": "stdout",
     "output_type": "stream",
     "text": [
      "0.0\n"
     ]
    }
   ],
   "source": [
    "determinante = np.linalg.det(A)\n",
    "print(determinante)"
   ]
  },
  {
   "cell_type": "code",
   "execution_count": 39,
   "id": "c37ef39e",
   "metadata": {},
   "outputs": [
    {
     "name": "stdout",
     "output_type": "stream",
     "text": [
      "[[-0.12309149  0.90453403  0.40824829]\n",
      " [-0.49236596  0.30151134 -0.81649658]\n",
      " [-0.86164044 -0.30151134  0.40824829]]\n",
      "[[-8.12403840e+00 -9.60113630e+00 -1.10782342e+01]\n",
      " [ 0.00000000e+00  9.04534034e-01  1.80906807e+00]\n",
      " [ 0.00000000e+00  0.00000000e+00 -8.88178420e-16]]\n"
     ]
    }
   ],
   "source": [
    "Q, R = np.linalg.qr(A)\n",
    "print(Q)\n",
    "print(R)"
   ]
  },
  {
   "cell_type": "code",
   "execution_count": 40,
   "id": "cfdece3d",
   "metadata": {},
   "outputs": [
    {
     "data": {
      "text/plain": [
       "array([[1., 2., 3.],\n",
       "       [4., 5., 6.],\n",
       "       [7., 8., 9.]])"
      ]
     },
     "execution_count": 40,
     "metadata": {},
     "output_type": "execute_result"
    }
   ],
   "source": [
    "Q @ R"
   ]
  },
  {
   "cell_type": "code",
   "execution_count": 41,
   "id": "754de560",
   "metadata": {},
   "outputs": [
    {
     "name": "stdout",
     "output_type": "stream",
     "text": [
      "Solucion del sistema de ecuaciones lineales:  [2. 3.]\n",
      "Verificacion de la solucion:  [9. 8.]\n"
     ]
    }
   ],
   "source": [
    "#Sistema de ecuaciones lineales\n",
    "# 3X + Y = 9\n",
    "# X + 2Y = 8\n",
    "\n",
    "A = np.array([[3,1],[1,2]])\n",
    "B = np.array([9,8])\n",
    "\n",
    "#Solucion del sistema de ecuaciones lineales\n",
    "x = np.linalg.solve(A,B)\n",
    "print(\"Solucion del sistema de ecuaciones lineales: \", x)\n",
    "\n",
    "#Verificacion de la solucion\n",
    "print(\"Verificacion de la solucion: \", np.dot(A,x))\n",
    "\n",
    "\n"
   ]
  },
  {
   "cell_type": "code",
   "execution_count": 43,
   "id": "ad1a561e",
   "metadata": {},
   "outputs": [
    {
     "name": "stdout",
     "output_type": "stream",
     "text": [
      "[[-1.33333333 -0.33333333  0.66666667]\n",
      " [ 1.08333333  0.33333333 -0.41666667]]\n",
      "[0.  0.5]\n"
     ]
    }
   ],
   "source": [
    "#Sistema resuelto por pseudoinversa\n",
    "# x + 2y = 1\n",
    "# 3x + 4y = 2\n",
    "# 5x + 6y = 3\n",
    "\n",
    "A = np.array([[1,2],[3,4],[5,6]])\n",
    "B = np.array([1,2,3])\n",
    "\n",
    "#Pseudoinversa de la matriz A\n",
    "A_pinv = np.linalg.pinv(A)\n",
    "print(A_pinv)\n",
    "\n",
    "#Solucion del sistema de ecuaciones lineales\n",
    "x = np.dot(A_pinv,B)\n",
    "print(x)"
   ]
  },
  {
   "cell_type": "code",
   "execution_count": 50,
   "id": "b9d7e1f3",
   "metadata": {},
   "outputs": [
    {
     "name": "stdout",
     "output_type": "stream",
     "text": [
      "Autovalores:\n",
      "  [4. 2.]\n",
      "Autovectores:\n",
      "  [[ 0.70710678 -0.70710678]\n",
      " [ 0.70710678  0.70710678]]\n",
      "Verificacion de la solucion:\n",
      "  [2.82842712 2.82842712]\n"
     ]
    }
   ],
   "source": [
    "#Calculo de autovalores y autovectores\n",
    "A = np.array([[3,1],[1,3]])\n",
    "\n",
    "#Autovalores y autovectores\n",
    "autovalores, autovectores = np.linalg.eig(A)\n",
    "print(\"Autovalores:\\n \", autovalores)\n",
    "print(\"Autovectores:\\n \", autovectores)\n",
    "\n",
    "#Verificacion de la solucion\n",
    "print(\"Verificacion de la solucion:\\n \", np.dot(A,autovectores[:,0]))\n",
    "\n"
   ]
  },
  {
   "cell_type": "code",
   "execution_count": 53,
   "id": "dd68a327",
   "metadata": {},
   "outputs": [
    {
     "data": {
      "image/png": "[encoded data removed]",
      "text/plain": [
       "<Figure size 640x480 with 1 Axes>"
      ]
     },
     "metadata": {},
     "output_type": "display_data"
    }
   ],
   "source": [
    "#Generacion de numeros aleatorios\n",
    "M = np.random.rand(50)\n",
    "N = np.random.rand(50)\n",
    "\n",
    "#Grafica de dispersion\n",
    "plt.scatter(M,N)\n",
    "plt.title(\"Grafica de dispersion\")\n",
    "plt.xlabel(\"M\")\n",
    "plt.ylabel(\"N\")\n",
    "plt.show()\n"
   ]
  },
  {
   "cell_type": "code",
   "execution_count": 55,
   "id": "9e585b1b",
   "metadata": {},
   "outputs": [
    {
     "data": {
      "image/png": "[encoded data removed]",
      "text/plain": [
       "<Figure size 800x400 with 1 Axes>"
      ]
     },
     "metadata": {},
     "output_type": "display_data"
    }
   ],
   "source": [
    "# Graficar : F(x) = x^2 - 4X + 4\n",
    "\n",
    "#Generacion de puntos en el eje x\n",
    "x = np.linspace(-1,5,400)\n",
    "#Generacion de puntos en el eje y\n",
    "y = x**2 - 4 * x + 4\n",
    "\n",
    "#Grafica de la funcion\n",
    "plt.figure(figsize=(8,4))\n",
    "plt.plot(x,y, label=\"F(x) = x^2 - 4X + 4\", color=\"red\", linewidth=2, linestyle=\"--\")\n",
    "plt.title(\"Grafica de la funcion cuadratica\")\n",
    "plt.xlabel(\"x\")\n",
    "plt.ylabel(\"y\")\n",
    "plt.grid(True)\n",
    "plt.legend()\n",
    "plt.show()\n",
    "\n"
   ]
  },
  {
   "cell_type": "code",
   "execution_count": 57,
   "id": "66dd8114",
   "metadata": {},
   "outputs": [
    {
     "data": {
      "image/png": "[encoded data removed]",
      "text/plain": [
       "<Figure size 1000x400 with 2 Axes>"
      ]
     },
     "metadata": {},
     "output_type": "display_data"
    }
   ],
   "source": [
    "#Uso de subplots\n",
    "x = np.linspace(0,10,100)\n",
    "y_lineal = x\n",
    "y_exponencial = np.exp(x)\n",
    "\n",
    "plt.figure(figsize=(10,4))\n",
    "plt.subplot(1,2,1)\n",
    "plt.plot(x,y_lineal, label=\"Lineal\", color=\"blue\", linewidth=2)\n",
    "plt.title(\"Grafica de la funcion lineal\")\n",
    "plt.xlabel(\"x\")\n",
    "plt.ylabel(\"y\")\n",
    "plt.grid(True)\n",
    "plt.legend()\n",
    "\n",
    "plt.subplot(1,2,2)\n",
    "plt.plot(x,y_exponencial, label=\"Exponencial\", color=\"red\", linewidth=2)\n",
    "plt.title(\"Grafica de la funcion exponencial\")\n",
    "plt.xlabel(\"x\")\n",
    "plt.ylabel(\"y\")\n",
    "plt.grid(True)\n",
    "plt.legend()\n",
    "plt.show()\n",
    "\n",
    "\n"
   ]
  },
  {
   "cell_type": "code",
   "execution_count": 60,
   "id": "77b65ab0",
   "metadata": {},
   "outputs": [
    {
     "data": {
      "image/png": "[encoded data removed]",
      "text/plain": [
       "<Figure size 1000x400 with 1 Axes>"
      ]
     },
     "metadata": {},
     "output_type": "display_data"
    }
   ],
   "source": [
    "#Uso de subplot\n",
    "x = np.linspace(0,10,100)\n",
    "y_lineal = x\n",
    "y_exponencial = np.exp(x)\n",
    "\n",
    "plt.figure(figsize=(10,4))\n",
    "plt.plot(x,y_lineal, label=\"Lineal\", color=\"blue\", linewidth=2, linestyle=\"--\")\n",
    "plt.plot(x,y_exponencial, label=\"Exponencial\", color=\"red\", linewidth=2)\n",
    "plt.ylim(0,100)\n",
    "plt.title(\"Grafica de las funciones\")\n",
    "plt.xlabel(\"x\")\n",
    "plt.ylabel(\"y\")\n",
    "plt.grid(True)\n",
    "plt.legend()\n",
    "plt.show()\n"
   ]
  },
  {
   "cell_type": "code",
   "execution_count": 61,
   "id": "2b0c9e9e",
   "metadata": {},
   "outputs": [
    {
     "name": "stderr",
     "output_type": "stream",
     "text": [
      "C:\\Users\\Admin\\AppData\\Local\\Temp\\ipykernel_22356\\1091592798.py:13: RuntimeWarning: divide by zero encountered in log\n",
      "  axs[i//2, i%2].plot(x, func(x), label=titulo)\n"
     ]
    },
    {
     "data": {
      "image/png": "[encoded data removed]",
      "text/plain": [
       "<Figure size 1000x800 with 4 Axes>"
      ]
     },
     "metadata": {},
     "output_type": "display_data"
    }
   ],
   "source": [
    "#Subplots\n",
    "\n",
    "# Crear una grafica de 2x2\n",
    "fig, axs = plt.subplots(2,2, figsize=(10,8))\n",
    "\n",
    "# Datos de ejemplo\n",
    "x = np.linspace(0,2*np.pi,100)\n",
    "\n",
    "#Titulos de las graficas\n",
    "titulos = [\"Lineal\", \"Exponencial\", \"Seno\", \"Coseno\"]\n",
    "\n",
    "for i, func, titulo in zip([0,1,2,3], [np.sin, np.cos, np.exp, np.log], titulos):\n",
    "    axs[i//2, i%2].plot(x, func(x), label=titulo)\n",
    "    axs[i//2, i%2].set_title(titulo)\n",
    "    axs[i//2, i%2].set_xlabel(\"x\")\n",
    "    axs[i//2, i%2].set_ylabel(\"y\")\n",
    "    axs[i//2, i%2].grid(True)\n",
    "    axs[i//2, i%2].legend()\n",
    "    \n",
    "plt.tight_layout()\n",
    "plt.show()  \n",
    "\n",
    "    \n"
   ]
  },
  {
   "cell_type": "code",
   "execution_count": null,
   "id": "2691029f",
   "metadata": {},
   "outputs": [],
   "source": []
  }
 ],
 "metadata": {
  "kernelspec": {
   "display_name": "venv",
   "language": "python",
   "name": "python3"
  },
  "language_info": {
   "codemirror_mode": {
    "name": "ipython",
    "version": 3
   },
   "file_extension": ".py",
   "mimetype": "text/x-python",
   "name": "python",
   "nbconvert_exporter": "python",
   "pygments_lexer": "ipython3",
   "version": "3.13.0"
  }
 },
 "nbformat": 4,
 "nbformat_minor": 5
}
