{
 "cells": [
  {
   "cell_type": "markdown",
   "id": "81b00fc1-95f4-473d-899a-a0526552db47",
   "metadata": {},
   "source": [
    "1. **Introducción al Broadcasting**\n",
    "\n",
    "   El broadcasting es una característica poderosa en NumPy que permite realizar operaciones aritméticas en arrays de diferentes tamaños. Esto se logra ampliando automáticamente el array más pequeño a lo largo de un eje compatible hasta que tenga la misma forma que el array más grande.\n",
    "\n",
    "   - **Concepto Clave**:\n",
    "     - Solo se puede realizar broadcasting si todas las dimensiones de los arrays son iguales o una de ellas es 1.\n",
    "\n",
    "2. **Reglas del Broadcasting**\n",
    "\n",
    "   Para aplicar el broadcasting, NumPy sigue un conjunto de reglas para determinar la interacción entre las dimensiones de los arrays:\n",
    "\n",
    "   - **Regla 1**: Si los arrays no tienen el mismo número de dimensiones, se añade una dimensión de tamaño 1 al inicio del array con menos dimensiones.\n",
    "   - **Regla 2**: Se comparan las dimensiones de los arrays. Si las dimensiones son iguales o una de ellas es 1, se puede continuar. Si no, se produce un error.\n",
    "   - **Regla 3**: Los arrays con dimensiones de tamaño 1 se expanden para coincidir con las otras dimensiones.\n",
    "\n",
    "   - **Ejemplo Visual**:\n",
    "     - Considere un array `A` con dimensiones (5,1) y un array `B` con dimensiones (1,4). Según las reglas de broadcasting, ambos arrays se expandirían a (5,4) para realizar operaciones entre ellos."
   ]
  },
  {
   "cell_type": "code",
   "execution_count": 2,
   "id": "0247e2b3-c7f1-4340-8c56-1d436ad3bcdf",
   "metadata": {},
   "outputs": [],
   "source": [
    "import numpy as np"
   ]
  },
  {
   "cell_type": "code",
   "execution_count": 3,
   "id": "afa968e6-081d-4c50-b329-a6897194794c",
   "metadata": {},
   "outputs": [],
   "source": [
    "vector = np.array([1, 2, 3])"
   ]
  },
  {
   "cell_type": "code",
   "execution_count": 6,
   "id": "3c157cfd-5e3d-4c2f-9140-1ece5e98c482",
   "metadata": {},
   "outputs": [
    {
     "data": {
      "text/plain": [
       "array([6, 7, 8])"
      ]
     },
     "execution_count": 6,
     "metadata": {},
     "output_type": "execute_result"
    }
   ],
   "source": [
    "vector+5"
   ]
  },
  {
   "cell_type": "code",
   "execution_count": 7,
   "id": "abba5957-fa07-46c7-a910-f8b6109939f3",
   "metadata": {},
   "outputs": [],
   "source": [
    "A = np.array([[1, 2, 3],\n",
    "              [4, 5, 6],\n",
    "              [7, 8, 9]])\n",
    "B = np.array([[1], [2], [3]])"
   ]
  },
  {
   "cell_type": "code",
   "execution_count": 8,
   "id": "f78a586f-d61f-414f-af02-8dc88db9d6b1",
   "metadata": {},
   "outputs": [
    {
     "name": "stdout",
     "output_type": "stream",
     "text": [
      "[[1 2 3]\n",
      " [4 5 6]\n",
      " [7 8 9]]\n"
     ]
    }
   ],
   "source": [
    "print(A)"
   ]
  },
  {
   "cell_type": "code",
   "execution_count": 9,
   "id": "bbbe915c-0f3a-47bc-8c6c-842d052afa3c",
   "metadata": {},
   "outputs": [
    {
     "name": "stdout",
     "output_type": "stream",
     "text": [
      "[[1]\n",
      " [2]\n",
      " [3]]\n"
     ]
    }
   ],
   "source": [
    "print(B)"
   ]
  },
  {
   "cell_type": "code",
   "execution_count": 10,
   "id": "05ef0ea4-5081-4b27-8654-09796472136b",
   "metadata": {},
   "outputs": [
    {
     "data": {
      "text/plain": [
       "array([[ 1,  2,  3],\n",
       "       [ 8, 10, 12],\n",
       "       [21, 24, 27]])"
      ]
     },
     "execution_count": 10,
     "metadata": {},
     "output_type": "execute_result"
    }
   ],
   "source": [
    "A*B"
   ]
  },
  {
   "cell_type": "code",
   "execution_count": null,
   "id": "43f0537a-4420-4354-a3df-e63aac6b75ca",
   "metadata": {},
   "outputs": [],
   "source": []
  }
 ],
 "metadata": {
  "kernelspec": {
   "display_name": "Python 3 (ipykernel)",
   "language": "python",
   "name": "python3"
  },
  "language_info": {
   "codemirror_mode": {
    "name": "ipython",
    "version": 3
   },
   "file_extension": ".py",
   "mimetype": "text/x-python",
   "name": "python",
   "nbconvert_exporter": "python",
   "pygments_lexer": "ipython3",
   "version": "3.12.3"
  }
 },
 "nbformat": 4,
 "nbformat_minor": 5
}
