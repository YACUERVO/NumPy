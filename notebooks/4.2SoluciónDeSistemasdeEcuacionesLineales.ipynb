{
 "cells": [
  {
   "cell_type": "code",
   "execution_count": 7,
   "id": "e46706e1-f219-4b06-a27c-1407338a31b5",
   "metadata": {},
   "outputs": [],
   "source": [
    "import numpy as np"
   ]
  },
  {
   "cell_type": "markdown",
   "id": "7aff6d68-6b73-4672-a246-77fda52bdd55",
   "metadata": {},
   "source": [
    "### Sistema Resuelto con `np.linalg.solve`\n",
    "\n",
    "$$\n",
    "\\begin{aligned}\n",
    "3x + y &= 9\\\\\n",
    "x + 2y &= 8\n",
    "\\end{aligned}\n",
    "$$\n",
    "\n",
    "El sistema en forma matricial \\( Ax = b \\) sería:\n",
    "\n",
    "$$\n",
    "A = \\begin{bmatrix}\n",
    "3 & 1 \\\\\n",
    "1 & 2 \n",
    "\\end{bmatrix}, \\quad\n",
    "b = \\begin{bmatrix}\n",
    "9 \\\\\n",
    "8 \n",
    "\\end{bmatrix}\n",
    "$$\n",
    "\n",
    "La solución, $ x $, que satisface $Ax = b $ se calcula mediante `np.linalg.solve`.\n"
   ]
  },
  {
   "cell_type": "code",
   "execution_count": 11,
   "id": "f5840129-c933-4217-8040-ecf9a65baa9c",
   "metadata": {},
   "outputs": [
    {
     "name": "stdout",
     "output_type": "stream",
     "text": [
      "[[3 1]\n",
      " [1 2]]\n",
      "[9 8]\n",
      "Solución del sistema: [2. 3.]\n"
     ]
    }
   ],
   "source": [
    "A = np.array([[3, 1], [1, 2]])\n",
    "print(A)\n",
    "b = np.array([9, 8])\n",
    "print(b)\n",
    "x = np.linalg.solve(A, b)\n",
    "print(\"Solución del sistema:\", x)\n"
   ]
  },
  {
   "cell_type": "code",
   "execution_count": 12,
   "id": "b38ed66a-c9c7-4bdd-a00b-f44bb3ac7e15",
   "metadata": {},
   "outputs": [
    {
     "name": "stdout",
     "output_type": "stream",
     "text": [
      "Verificación de Ax = b: [9. 8.]\n"
     ]
    }
   ],
   "source": [
    "print(\"Verificación de Ax = b:\", np.dot(A, x))\n",
    "\n"
   ]
  },
  {
   "cell_type": "markdown",
   "id": "583de5c8-4040-48ab-8098-e0f4dc94c306",
   "metadata": {},
   "source": [
    "### Sistema Resuelto con la Pseudoinversa (`np.linalg.pinv`)\n",
    "\n",
    "Sistema sobredeterminado (más ecuaciones que incógnitas):\n",
    "\n",
    "$$\n",
    "\\begin{aligned}\n",
    "x + 2y &= 1 \\\\\n",
    "3x + 4y &= 2 \\\\\n",
    "5x + 6y &= 3 \n",
    "\\end{aligned}\n",
    "$$\n",
    "\n",
    "El sistema en forma matricial $ Ax = b $ sería:\n",
    "\n",
    "$$\n",
    "A = \\begin{bmatrix}\n",
    "1 & 2 \\\\\n",
    "3 & 4 \\\\\n",
    "5 & 6\n",
    "\\end{bmatrix}, \\quad\n",
    "b = \\begin{bmatrix}\n",
    "1 \\\\\n",
    "2 \\\\\n",
    "3\n",
    "\\end{bmatrix}\n",
    "$$\n",
    "\n",
    "Utilizando la pseudoinversa de $ A $ y el método de mínimos cuadrados, encontramos una solución $ x $ que minimiza $ \\| Ax - b \\| $."
   ]
  },
  {
   "cell_type": "code",
   "execution_count": 14,
   "id": "863a3660-da45-4857-97b4-44cdad142e93",
   "metadata": {},
   "outputs": [
    {
     "name": "stdout",
     "output_type": "stream",
     "text": [
      "[[1 2]\n",
      " [3 4]\n",
      " [5 6]]\n",
      "[1 2 3]\n"
     ]
    }
   ],
   "source": [
    "A = np.array([[1, 2], [3, 4], [5, 6]])\n",
    "print(A)\n",
    "b = np.array([1, 2, 3])\n",
    "print(b)"
   ]
  },
  {
   "cell_type": "code",
   "execution_count": 15,
   "id": "bf191ff0-6910-436e-ac33-cb1ab7179072",
   "metadata": {},
   "outputs": [
    {
     "name": "stdout",
     "output_type": "stream",
     "text": [
      "[[-1.33333333 -0.33333333  0.66666667]\n",
      " [ 1.08333333  0.33333333 -0.41666667]]\n"
     ]
    }
   ],
   "source": [
    "A_pinv = np.linalg.pinv(A)\n",
    "print(A_pinv)"
   ]
  },
  {
   "cell_type": "code",
   "execution_count": 16,
   "id": "cdaffa97-817f-4ce8-8c0b-aa2d35a13194",
   "metadata": {},
   "outputs": [
    {
     "name": "stdout",
     "output_type": "stream",
     "text": [
      "[0.  0.5]\n"
     ]
    }
   ],
   "source": [
    "x = np.dot(A_pinv, b)\n",
    "print(x)"
   ]
  },
  {
   "cell_type": "code",
   "execution_count": null,
   "id": "0229eff8-e1fe-4088-9234-55ee299f486a",
   "metadata": {},
   "outputs": [],
   "source": []
  }
 ],
 "metadata": {
  "kernelspec": {
   "display_name": "Python 3 (ipykernel)",
   "language": "python",
   "name": "python3"
  },
  "language_info": {
   "codemirror_mode": {
    "name": "ipython",
    "version": 3
   },
   "file_extension": ".py",
   "mimetype": "text/x-python",
   "name": "python",
   "nbconvert_exporter": "python",
   "pygments_lexer": "ipython3",
   "version": "3.12.3"
  }
 },
 "nbformat": 4,
 "nbformat_minor": 5
}
