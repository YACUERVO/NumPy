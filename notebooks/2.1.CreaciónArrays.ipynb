{
 "cells": [
  {
   "cell_type": "code",
   "execution_count": 1,
   "id": "c6d3ecff-8870-462f-8845-06675166034b",
   "metadata": {},
   "outputs": [],
   "source": [
    "import numpy as np"
   ]
  },
  {
   "cell_type": "code",
   "execution_count": 2,
   "id": "f9e45de4-5e31-49db-b535-3b206162be2c",
   "metadata": {},
   "outputs": [],
   "source": [
    "L = [1,2,3]"
   ]
  },
  {
   "cell_type": "code",
   "execution_count": 3,
   "id": "cfc3e978-c102-449e-a4a5-ded28aa728df",
   "metadata": {},
   "outputs": [],
   "source": [
    "A = np.array(L)"
   ]
  },
  {
   "cell_type": "code",
   "execution_count": 11,
   "id": "e0a7c774-7982-4b94-9974-0d533e96ee5c",
   "metadata": {},
   "outputs": [],
   "source": [
    "L2 = [[1,2],[3,4]]\n",
    "A2 = np.array(L2)"
   ]
  },
  {
   "cell_type": "code",
   "execution_count": 12,
   "id": "d4a29c83-b2d2-40b7-b825-b091fe82368a",
   "metadata": {},
   "outputs": [
    {
     "name": "stdout",
     "output_type": "stream",
     "text": [
      "[[1, 2], [3, 4]]\n",
      "[[1 2]\n",
      " [3 4]]\n"
     ]
    }
   ],
   "source": [
    "print(L2)\n",
    "print(A2)"
   ]
  },
  {
   "cell_type": "code",
   "execution_count": 13,
   "id": "4cb77701-6cc6-44f4-9f7f-ac3b3958b000",
   "metadata": {},
   "outputs": [
    {
     "name": "stdout",
     "output_type": "stream",
     "text": [
      "Zeros Array:\n",
      " [[0. 0. 0.]\n",
      " [0. 0. 0.]]\n",
      "Ones Array:\n",
      " [[1. 1.]\n",
      " [1. 1.]\n",
      " [1. 1.]]\n"
     ]
    }
   ],
   "source": [
    "## Arrays de ceros y unos\n",
    "zeros_array = np.zeros((2, 3))\n",
    "ones_array = np.ones((3, 2))\n",
    "print(\"Zeros Array:\\n\", zeros_array)\n",
    "print(\"Ones Array:\\n\", ones_array)\n"
   ]
  },
  {
   "cell_type": "code",
   "execution_count": 14,
   "id": "15f53d36-e895-433f-8a46-d382cd553a4d",
   "metadata": {},
   "outputs": [
    {
     "name": "stdout",
     "output_type": "stream",
     "text": [
      "Range Array: [0 1 2 3 4 5 6 7 8 9]\n"
     ]
    }
   ],
   "source": [
    "## Arrays de rangos\n",
    "range_array = np.arange(10)\n",
    "print(\"Range Array:\", range_array)\n"
   ]
  },
  {
   "cell_type": "code",
   "execution_count": 15,
   "id": "1d390b34-453b-455a-9fd9-9974ac841dfd",
   "metadata": {},
   "outputs": [
    {
     "name": "stdout",
     "output_type": "stream",
     "text": [
      "Linspace Array: [0.   0.25 0.5  0.75 1.  ]\n"
     ]
    }
   ],
   "source": [
    "## Arrays espaciados linealmente\n",
    "linspace_array = np.linspace(0, 1, num=5) \n",
    "print(\"Linspace Array:\", linspace_array)\n"
   ]
  },
  {
   "cell_type": "code",
   "execution_count": 16,
   "id": "51cc34bf-ae71-4e3a-9586-7eae40492a39",
   "metadata": {},
   "outputs": [
    {
     "name": "stdout",
     "output_type": "stream",
     "text": [
      "Identity Matrix:\n",
      " [[1. 0. 0. 0.]\n",
      " [0. 1. 0. 0.]\n",
      " [0. 0. 1. 0.]\n",
      " [0. 0. 0. 1.]]\n"
     ]
    }
   ],
   "source": [
    "## matriz identidad\n",
    "\n",
    "identity_matrix = np.eye(4)\n",
    "print(\"Identity Matrix:\\n\", identity_matrix)"
   ]
  },
  {
   "cell_type": "code",
   "execution_count": 17,
   "id": "355beed2-9c76-480a-b758-215be1aba8b2",
   "metadata": {},
   "outputs": [
    {
     "name": "stdout",
     "output_type": "stream",
     "text": [
      "Integer Array: [1 2 3]\n",
      "Float Array: [1. 2. 3.]\n"
     ]
    }
   ],
   "source": [
    "## Arrays con tipos de datos especificos\n",
    "\n",
    "int_array = np.array([1, 2, 3], dtype='int32')\n",
    "float_array = np.array([1, 2, 3], dtype='float32')\n",
    "print(\"Integer Array:\", int_array)\n",
    "print(\"Float Array:\", float_array)"
   ]
  },
  {
   "cell_type": "code",
   "execution_count": null,
   "id": "9db165d7-aa35-4e7d-b82d-78df40101cb8",
   "metadata": {},
   "outputs": [],
   "source": []
  }
 ],
 "metadata": {
  "kernelspec": {
   "display_name": "Python 3 (ipykernel)",
   "language": "python",
   "name": "python3"
  },
  "language_info": {
   "codemirror_mode": {
    "name": "ipython",
    "version": 3
   },
   "file_extension": ".py",
   "mimetype": "text/x-python",
   "name": "python",
   "nbconvert_exporter": "python",
   "pygments_lexer": "ipython3",
   "version": "3.11.8"
  }
 },
 "nbformat": 4,
 "nbformat_minor": 5
}
