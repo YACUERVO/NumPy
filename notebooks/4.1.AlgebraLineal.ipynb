{
 "cells": [
  {
   "cell_type": "code",
   "execution_count": 1,
   "id": "2cf63fc8-e107-4025-84ca-2358dfd4f9d5",
   "metadata": {},
   "outputs": [],
   "source": [
    "import numpy as np"
   ]
  },
  {
   "cell_type": "code",
   "execution_count": 2,
   "id": "ea8fa2e4-7e45-40c8-a304-ea86f07929bc",
   "metadata": {},
   "outputs": [],
   "source": [
    "A = np.array([[1, 2], [3, 4]])\n",
    "B = np.array([[2, 0], [1, 2]])"
   ]
  },
  {
   "cell_type": "code",
   "execution_count": 6,
   "id": "290e5e22-5215-4e1e-b13c-b6d863f6ee1e",
   "metadata": {},
   "outputs": [
    {
     "name": "stdout",
     "output_type": "stream",
     "text": [
      "[[ 4  4]\n",
      " [10  8]]\n"
     ]
    }
   ],
   "source": [
    "C = np.dot(A,B)\n",
    "print(C)"
   ]
  },
  {
   "cell_type": "code",
   "execution_count": 7,
   "id": "1560dd20-2b64-4001-8d46-d3f25f3c0bf5",
   "metadata": {},
   "outputs": [
    {
     "name": "stdout",
     "output_type": "stream",
     "text": [
      "[[ 4  4]\n",
      " [10  8]]\n"
     ]
    }
   ],
   "source": [
    "D = A @ B\n",
    "print(D)"
   ]
  },
  {
   "cell_type": "code",
   "execution_count": 8,
   "id": "c7c0b4ce-76c0-4225-805a-9be2e2d99e6b",
   "metadata": {},
   "outputs": [],
   "source": [
    "x = np.array([2,3])\n",
    "y = np.array([5,2])"
   ]
  },
  {
   "cell_type": "code",
   "execution_count": 9,
   "id": "8922a0de-d4ab-4507-b315-a029972ce935",
   "metadata": {},
   "outputs": [
    {
     "data": {
      "text/plain": [
       "16"
      ]
     },
     "execution_count": 9,
     "metadata": {},
     "output_type": "execute_result"
    }
   ],
   "source": [
    "x @ y"
   ]
  },
  {
   "cell_type": "code",
   "execution_count": 11,
   "id": "5f6c18fb-5eb7-4a9a-8acc-0975af0bff4d",
   "metadata": {},
   "outputs": [
    {
     "data": {
      "text/plain": [
       "4.0"
      ]
     },
     "execution_count": 11,
     "metadata": {},
     "output_type": "execute_result"
    }
   ],
   "source": [
    "np.linalg.det(B)"
   ]
  },
  {
   "cell_type": "code",
   "execution_count": 12,
   "id": "bcfedf0b-293b-48b3-9542-62e834f40846",
   "metadata": {},
   "outputs": [
    {
     "name": "stdout",
     "output_type": "stream",
     "text": [
      "[[2 0]\n",
      " [1 2]]\n"
     ]
    }
   ],
   "source": [
    "print(B)"
   ]
  },
  {
   "cell_type": "code",
   "execution_count": 15,
   "id": "1a2b4451-0ebe-4ac3-bba3-7362de2c5382",
   "metadata": {},
   "outputs": [
    {
     "name": "stdout",
     "output_type": "stream",
     "text": [
      "Inversa de A:\n",
      " [[-2.   1. ]\n",
      " [ 1.5 -0.5]]\n"
     ]
    }
   ],
   "source": [
    "det_A = np.linalg.det(A)\n",
    "if det_A != 0:\n",
    "    inv_A = np.linalg.inv(A)\n",
    "    print(\"Inversa de A:\\n\", inv_A)\n",
    "else:\n",
    "    print(\"A no es invertible.\")\n"
   ]
  },
  {
   "cell_type": "code",
   "execution_count": 16,
   "id": "945c59f8-a253-45bd-83a7-7f86a77aa21b",
   "metadata": {},
   "outputs": [],
   "source": [
    "M = np.array([[3,3],[3,3]])"
   ]
  },
  {
   "cell_type": "code",
   "execution_count": 18,
   "id": "df2177ff-d378-4e6a-af95-499b35f91e32",
   "metadata": {},
   "outputs": [
    {
     "name": "stdout",
     "output_type": "stream",
     "text": [
      "0.0\n",
      "M no es invertible.\n"
     ]
    }
   ],
   "source": [
    "det_M = np.linalg.det(M)\n",
    "print(det_M)\n",
    "if det_M != 0:\n",
    "    inv_M = np.linalg.inv(M)\n",
    "    print(\"Inversa de M:\\n\", inv_M)\n",
    "else:\n",
    "    print(\"M no es invertible.\")"
   ]
  },
  {
   "cell_type": "code",
   "execution_count": 19,
   "id": "e34250ec-5b41-4500-a5dd-1e88408a16a8",
   "metadata": {},
   "outputs": [
    {
     "name": "stdout",
     "output_type": "stream",
     "text": [
      "[[1 2]\n",
      " [3 4]]\n"
     ]
    }
   ],
   "source": [
    "print(A)"
   ]
  },
  {
   "cell_type": "code",
   "execution_count": 20,
   "id": "2b0dc6d2-ab27-4b0d-954b-c7ba6a98abcb",
   "metadata": {},
   "outputs": [],
   "source": [
    "Q, R = np.linalg.qr(A)"
   ]
  },
  {
   "cell_type": "code",
   "execution_count": 21,
   "id": "ccec1a4a-c645-458d-b53d-35ee722d397b",
   "metadata": {},
   "outputs": [
    {
     "name": "stdout",
     "output_type": "stream",
     "text": [
      "Factor Q:\n",
      " [[-0.31622777 -0.9486833 ]\n",
      " [-0.9486833   0.31622777]]\n",
      "Factor R:\n",
      " [[-3.16227766 -4.42718872]\n",
      " [ 0.         -0.63245553]]\n"
     ]
    }
   ],
   "source": [
    "print(\"Factor Q:\\n\", Q)\n",
    "print(\"Factor R:\\n\", R)"
   ]
  },
  {
   "cell_type": "code",
   "execution_count": 22,
   "id": "b03f4549-fc4f-482e-95ec-197a44ee552b",
   "metadata": {},
   "outputs": [
    {
     "data": {
      "text/plain": [
       "array([[1., 2.],\n",
       "       [3., 4.]])"
      ]
     },
     "execution_count": 22,
     "metadata": {},
     "output_type": "execute_result"
    }
   ],
   "source": [
    "Q @ R"
   ]
  },
  {
   "cell_type": "code",
   "execution_count": null,
   "id": "53d0ceea-6400-41fd-88fc-f56556ab9216",
   "metadata": {},
   "outputs": [],
   "source": []
  }
 ],
 "metadata": {
  "kernelspec": {
   "display_name": "Python 3 (ipykernel)",
   "language": "python",
   "name": "python3"
  },
  "language_info": {
   "codemirror_mode": {
    "name": "ipython",
    "version": 3
   },
   "file_extension": ".py",
   "mimetype": "text/x-python",
   "name": "python",
   "nbconvert_exporter": "python",
   "pygments_lexer": "ipython3",
   "version": "3.12.3"
  }
 },
 "nbformat": 4,
 "nbformat_minor": 5
}
