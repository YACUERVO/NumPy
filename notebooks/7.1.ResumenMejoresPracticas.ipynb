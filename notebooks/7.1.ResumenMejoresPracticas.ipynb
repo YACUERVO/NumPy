{
 "cells": [
  {
   "cell_type": "code",
   "execution_count": 1,
   "id": "fdb79dfd-b298-47fa-bf6a-75b7832fc82e",
   "metadata": {},
   "outputs": [],
   "source": [
    "import numpy as np"
   ]
  },
  {
   "cell_type": "code",
   "execution_count": 2,
   "id": "ba58d672-1d5f-4241-83c5-123e0933a1b2",
   "metadata": {},
   "outputs": [
    {
     "name": "stdout",
     "output_type": "stream",
     "text": [
      "[3 4 5 6 7]\n"
     ]
    }
   ],
   "source": [
    "a = np.array([1, 2, 3, 4, 5])\n",
    "for i in range(len(a)):\n",
    "    a[i] += 2\n",
    "print(a)"
   ]
  },
  {
   "cell_type": "code",
   "execution_count": 3,
   "id": "d5d9dfe4-1faf-4367-b7ef-75aa2c8ef044",
   "metadata": {},
   "outputs": [
    {
     "name": "stdout",
     "output_type": "stream",
     "text": [
      "[3 4 5 6 7]\n"
     ]
    }
   ],
   "source": [
    "a = np.array([1, 2, 3, 4, 5])\n",
    "a += 2\n",
    "print(a)"
   ]
  },
  {
   "cell_type": "code",
   "execution_count": 4,
   "id": "5ae92c9c-1ba8-4e80-bd01-9cdd4662726f",
   "metadata": {},
   "outputs": [],
   "source": [
    "b = np.array([2, 3, 5, 7, 11])"
   ]
  },
  {
   "cell_type": "code",
   "execution_count": 5,
   "id": "bcea083a-38b0-47eb-89f2-6cd2c9692d6d",
   "metadata": {},
   "outputs": [
    {
     "data": {
      "text/plain": [
       "array([0.83426719, 0.34180979, 0.65051364, 1.66649465, 3.05488187])"
      ]
     },
     "execution_count": 5,
     "metadata": {},
     "output_type": "execute_result"
    }
   ],
   "source": [
    "np.sin(a)+np.log(b)"
   ]
  },
  {
   "cell_type": "code",
   "execution_count": 6,
   "id": "931ee656-86e7-4a33-8287-69da38a2ddf6",
   "metadata": {},
   "outputs": [
    {
     "name": "stdout",
     "output_type": "stream",
     "text": [
      "[100   2   3   4   5]\n"
     ]
    }
   ],
   "source": [
    "c = np.array([1, 2, 3, 4, 5])\n",
    "d = c[:3]\n",
    "d[0] = 100\n",
    "print(c)"
   ]
  },
  {
   "cell_type": "code",
   "execution_count": 7,
   "id": "a5d26055-e013-4c08-9610-6fc5ab949c59",
   "metadata": {},
   "outputs": [
    {
     "name": "stdout",
     "output_type": "stream",
     "text": [
      "[100   2   3   4   5]\n"
     ]
    }
   ],
   "source": [
    "e = c[:3].copy()\n",
    "e[0] = 10\n",
    "print(c)"
   ]
  },
  {
   "cell_type": "code",
   "execution_count": 8,
   "id": "0eca66d1-3e5e-4584-a2dc-d64d2dc01f40",
   "metadata": {},
   "outputs": [],
   "source": [
    "f = np.array([1, 2, 3], dtype=np.int32)"
   ]
  },
  {
   "cell_type": "code",
   "execution_count": 9,
   "id": "7f186d84-18d1-4f7e-b640-198aff76b708",
   "metadata": {},
   "outputs": [
    {
     "name": "stdout",
     "output_type": "stream",
     "text": [
      "[[1 2 3]\n",
      " [4 5 6]\n",
      " [7 8 9]]\n"
     ]
    }
   ],
   "source": [
    "g = np.array([[1, 2, 3], [4, 5, 6], [7, 8, 9]])\n",
    "print(g)"
   ]
  },
  {
   "cell_type": "code",
   "execution_count": 10,
   "id": "f0076a51-4f20-4fb4-9ab4-12525a7fe11b",
   "metadata": {},
   "outputs": [
    {
     "name": "stdout",
     "output_type": "stream",
     "text": [
      "[6 7 8 9]\n"
     ]
    }
   ],
   "source": [
    "h = g[g > 5] \n",
    "print(h)"
   ]
  },
  {
   "cell_type": "code",
   "execution_count": 11,
   "id": "99de532b-e906-470a-b2f0-abb22298f98e",
   "metadata": {},
   "outputs": [
    {
     "name": "stdout",
     "output_type": "stream",
     "text": [
      "[1 2 3]\n",
      "[[1]\n",
      " [2]\n",
      " [3]]\n"
     ]
    }
   ],
   "source": [
    "i = np.array([1, 2, 3])\n",
    "print(i)\n",
    "j = np.array([1, 2, 3]).reshape((3, 1))\n",
    "print(j)"
   ]
  },
  {
   "cell_type": "code",
   "execution_count": 12,
   "id": "3fc0d135-c498-4a81-84a8-c0c8f500c6eb",
   "metadata": {},
   "outputs": [],
   "source": [
    "def is_even(num):\n",
    "    return num % 2 == 0"
   ]
  },
  {
   "cell_type": "code",
   "execution_count": 13,
   "id": "cbdf75ef-1ab6-491b-8f96-b29d69b4c476",
   "metadata": {},
   "outputs": [],
   "source": [
    "vectorized_is_even = np.vectorize(is_even)\n"
   ]
  },
  {
   "cell_type": "code",
   "execution_count": 14,
   "id": "9bf5c5dc-3a0a-44f9-9f1b-e57aa2fdb5ce",
   "metadata": {},
   "outputs": [],
   "source": [
    "numbers = np.array([1, 2, 3, 4, 5, 6])"
   ]
  },
  {
   "cell_type": "code",
   "execution_count": 15,
   "id": "16c1428b-8de6-4d2a-a992-057485b5bbaf",
   "metadata": {},
   "outputs": [
    {
     "name": "stdout",
     "output_type": "stream",
     "text": [
      "[False  True False  True False  True]\n"
     ]
    }
   ],
   "source": [
    "results = vectorized_is_even(numbers)\n",
    "print(results) "
   ]
  },
  {
   "cell_type": "code",
   "execution_count": null,
   "id": "efb0bd0c-277c-4e55-a0f0-89d45063eb68",
   "metadata": {},
   "outputs": [],
   "source": []
  }
 ],
 "metadata": {
  "kernelspec": {
   "display_name": "Python 3 (ipykernel)",
   "language": "python",
   "name": "python3"
  },
  "language_info": {
   "codemirror_mode": {
    "name": "ipython",
    "version": 3
   },
   "file_extension": ".py",
   "mimetype": "text/x-python",
   "name": "python",
   "nbconvert_exporter": "python",
   "pygments_lexer": "ipython3",
   "version": "3.12.3"
  }
 },
 "nbformat": 4,
 "nbformat_minor": 5
}
